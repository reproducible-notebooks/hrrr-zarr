{
 "cells": [
  {
   "cell_type": "markdown",
   "metadata": {},
   "source": [
    "# Read HRRR Forecast model data in cloud-friendly format (Zarr)\n",
    "This notebook demonstrates the power of Pangeo to access HRRR data in Zarr format, perform computations in parallel and interactively visualize the result.  \n",
    "\n",
    "The Zarr format data was obtained by converting HRRR best time series data from Unidata's Jetstream THREDDS server using this code:\n",
    "```\n",
    "import xarray as xr\n",
    "url = 'http://thredds-jetstream.unidata.ucar.edu/thredds/dodsC/grib/NCEP/HRRR/CONUS_2p5km/Best'\n",
    "ds = xr.open_dataset(url)\n",
    "\n",
    "ds = ds[['Temperature_height_above_ground',\n",
    "        'u-component_of_wind_height_above_ground',\n",
    "        'v-component_of_wind_height_above_ground',\n",
    "        'LambertConformal_Projection']]\n",
    "        \n",
    "ds = ds.chunk(chunks={'time':10})\n",
    "ds.to_zarr('hrrr_zarr', consolidated=True)\n",
    "```\n",
    "and then stored the result on S3 at `s3://esip-pangeo-uswest2/pangeo/EPIC/hrrr_zarr`. "
   ]
  },
  {
   "cell_type": "code",
   "execution_count": null,
   "metadata": {},
   "outputs": [],
   "source": [
    "from dask.distributed import Client, progress\n",
    "from dask_kubernetes import KubeCluster\n",
    "import numpy as np\n",
    "import xarray as xr\n",
    "import fsspec\n",
    "import metpy\n",
    "import hvplot.xarray\n",
    "import geoviews as gv"
   ]
  },
  {
   "cell_type": "markdown",
   "metadata": {},
   "source": [
    "Create a small Kubernetes cluster with 5 workers"
   ]
  },
  {
   "cell_type": "code",
   "execution_count": null,
   "metadata": {},
   "outputs": [],
   "source": [
    "cluster = KubeCluster()\n",
    "cluster.scale(5);\n",
    "cluster"
   ]
  },
  {
   "cell_type": "code",
   "execution_count": null,
   "metadata": {},
   "outputs": [],
   "source": [
    "client = Client(cluster)"
   ]
  },
  {
   "cell_type": "markdown",
   "metadata": {},
   "source": [
    "Open Zarr dataset from S3 (no data is actually loaded at this step)"
   ]
  },
  {
   "cell_type": "code",
   "execution_count": null,
   "metadata": {},
   "outputs": [],
   "source": [
    "ds = xr.open_zarr(fsspec.get_mapper('s3://esip-pangeo-uswest2/pangeo/EPIC/hrrr_zarr'))"
   ]
  },
  {
   "cell_type": "markdown",
   "metadata": {},
   "source": [
    "Examine the dataset.  It looks just the same as if it was read from a local NetCDF file. "
   ]
  },
  {
   "cell_type": "code",
   "execution_count": null,
   "metadata": {},
   "outputs": [],
   "source": [
    "ds"
   ]
  },
  {
   "cell_type": "markdown",
   "metadata": {},
   "source": [
    "Use Unidata's metpy package to read units and projection information"
   ]
  },
  {
   "cell_type": "code",
   "execution_count": null,
   "metadata": {
    "scrolled": true
   },
   "outputs": [],
   "source": [
    "u  = ds.metpy.parse_cf('u-component_of_wind_height_above_ground')\n",
    "v  = ds.metpy.parse_cf('v-component_of_wind_height_above_ground')\n",
    "\n",
    "crs = u.metpy.cartopy_crs"
   ]
  },
  {
   "cell_type": "markdown",
   "metadata": {},
   "source": [
    "From the many tile source basemap options in Geoviews, choose Open Street Map (OSM)"
   ]
  },
  {
   "cell_type": "code",
   "execution_count": null,
   "metadata": {},
   "outputs": [],
   "source": [
    "base_map = gv.tile_sources.OSM"
   ]
  },
  {
   "cell_type": "markdown",
   "metadata": {},
   "source": [
    "Derive wind speed (still no data loaded!)"
   ]
  },
  {
   "cell_type": "code",
   "execution_count": null,
   "metadata": {},
   "outputs": [],
   "source": [
    "windspeed = np.sqrt(u**2 + v**2)"
   ]
  },
  {
   "cell_type": "code",
   "execution_count": null,
   "metadata": {},
   "outputs": [],
   "source": [
    "windspeed"
   ]
  },
  {
   "cell_type": "markdown",
   "metadata": {},
   "source": [
    "Visualize the wind speed.  Data is finally read (on demand) from Zarr): "
   ]
  },
  {
   "cell_type": "code",
   "execution_count": null,
   "metadata": {},
   "outputs": [],
   "source": [
    "mesh = windspeed.hvplot(x='x', y='y', rasterize=True, cmap='viridis', crs=crs, width=700)\n",
    "base_map * mesh.opts(alpha=0.7)"
   ]
  },
  {
   "cell_type": "markdown",
   "metadata": {},
   "source": [
    "How many GB of windspeed data are we going to crunch?"
   ]
  },
  {
   "cell_type": "code",
   "execution_count": null,
   "metadata": {},
   "outputs": [],
   "source": [
    "windspeed.nbytes/1e9"
   ]
  },
  {
   "cell_type": "markdown",
   "metadata": {},
   "source": [
    "Find the maximum windspeed over the time dimension, and persist the data onto the workers in case we need it again.   This is where the actual data finally gets read from Zarr:"
   ]
  },
  {
   "cell_type": "code",
   "execution_count": null,
   "metadata": {},
   "outputs": [],
   "source": [
    "wind_max = windspeed.max(dim='time').persist()\n",
    "progress(wind_max)"
   ]
  },
  {
   "cell_type": "markdown",
   "metadata": {},
   "source": [
    "Visualize the maximum wind speed.  The track of Humberto is evident!"
   ]
  },
  {
   "cell_type": "code",
   "execution_count": null,
   "metadata": {},
   "outputs": [],
   "source": [
    "mesh = wind_max.hvplot(x='x', y='y', rasterize=True, cmap='viridis', crs=crs, width=700)\n",
    "\n",
    "(base_map * mesh.opts(alpha=0.7)).opts(active_tools=['wheel_zoom', 'pan'])"
   ]
  }
 ],
 "metadata": {
  "kernelspec": {
   "display_name": "Python 3",
   "language": "python",
   "name": "python3"
  },
  "language_info": {
   "codemirror_mode": {
    "name": "ipython",
    "version": 3
   },
   "file_extension": ".py",
   "mimetype": "text/x-python",
   "name": "python",
   "nbconvert_exporter": "python",
   "pygments_lexer": "ipython3",
   "version": "3.7.3"
  },
  "widgets": {
   "application/vnd.jupyter.widget-state+json": {
    "state": {},
    "version_major": 2,
    "version_minor": 0
   }
  }
 },
 "nbformat": 4,
 "nbformat_minor": 4
}
